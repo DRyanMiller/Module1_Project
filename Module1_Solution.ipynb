{
 "cells": [
  {
   "cell_type": "markdown",
   "metadata": {},
   "source": [
    "# Initial Imports and Data Cleaning"
   ]
  },
  {
   "cell_type": "markdown",
   "metadata": {},
   "source": [
    "## Import Libraries and Custom Functions"
   ]
  },
  {
   "cell_type": "markdown",
   "metadata": {},
   "source": [
    "The following code will import our custom functions from Mod1_Functions.py.\n",
    "\n",
    "We also import pandas, numpy, matplotlib, seaborn, and scikit-learn."
   ]
  },
  {
   "cell_type": "code",
   "execution_count": 1,
   "metadata": {
    "ExecuteTime": {
     "end_time": "2019-05-06T20:41:24.724925Z",
     "start_time": "2019-05-06T20:41:24.503056Z"
    }
   },
   "outputs": [],
   "source": [
    "from Mod1_Functions import *\n",
    "import pandas as pd\n",
    "import numpy as np"
   ]
  },
  {
   "cell_type": "markdown",
   "metadata": {},
   "source": [
    "## Import Raw Dataset"
   ]
  },
  {
   "cell_type": "markdown",
   "metadata": {},
   "source": [
    "We import the csv data into a pandas dataframe by using pandas.read_csv."
   ]
  },
  {
   "cell_type": "code",
   "execution_count": 2,
   "metadata": {
    "ExecuteTime": {
     "end_time": "2019-05-06T20:41:24.798595Z",
     "start_time": "2019-05-06T20:41:24.727225Z"
    }
   },
   "outputs": [],
   "source": [
    "df_raw = pd.read_csv('kc_house_data.csv')"
   ]
  },
  {
   "cell_type": "markdown",
   "metadata": {},
   "source": [
    "## Clean data using custom function"
   ]
  },
  {
   "cell_type": "markdown",
   "metadata": {},
   "source": [
    "Our `clean_dataframe()` function takes in inputs of dataframe and a dictionary of adjustments.\n",
    "\n",
    "We first set our `data_adjustments` dictionary to contain the fields we want to change as keys and a list of adjustments as dictionary values.\n",
    "\n",
    "The parameters in the list are: \\[datatype, value to replace, value to replace with, replacement array\\]\n",
    "\n",
    "    - datatype : must be a valid data type\n",
    "    - value to replace: can be a single value string, integer, or np.nan\n",
    "    - value to replace with: can be a single value or can be a list with strings containg other column names in dataframe (see replacement array below)\n",
    "    - replacement array: contains a list of floats or integers, which are multiplied by the associated data field in the \"value to replace with\" list"
   ]
  },
  {
   "cell_type": "code",
   "execution_count": 3,
   "metadata": {
    "ExecuteTime": {
     "end_time": "2019-05-06T20:41:24.805602Z",
     "start_time": "2019-05-06T20:41:24.801152Z"
    }
   },
   "outputs": [],
   "source": [
    "data_adjustments = {'date': ['datetime64', None, None, None], \n",
    "                    'bedrooms': [None, 33, 4, None], \n",
    "                    'waterfront': [str, np.nan, 'missing', None], \n",
    "                    'view': [str, np.nan, 0, None],\n",
    "                    'sqft_basement': [float, '?', ['sqft_living','sqft_above'], [1, -1]]\n",
    "                   }"
   ]
  },
  {
   "cell_type": "code",
   "execution_count": 4,
   "metadata": {
    "ExecuteTime": {
     "end_time": "2019-05-06T20:41:26.419698Z",
     "start_time": "2019-05-06T20:41:24.808069Z"
    }
   },
   "outputs": [],
   "source": [
    "df_clean = clean_dataframe(df_raw, data_adjustments)"
   ]
  },
  {
   "cell_type": "markdown",
   "metadata": {},
   "source": [
    "## Add features calculated from other columns"
   ]
  },
  {
   "cell_type": "markdown",
   "metadata": {},
   "source": [
    "We create a few fields calculated based on the date of sale (day of week, day, and month).\n",
    "\n",
    "We also create a custom binned variable `'yr_renovated_cat'` which categorizes whether the house has been renovated and whether that renovation was recent."
   ]
  },
  {
   "cell_type": "code",
   "execution_count": 13,
   "metadata": {
    "ExecuteTime": {
     "end_time": "2019-05-06T20:42:53.782327Z",
     "start_time": "2019-05-06T20:42:53.579535Z"
    },
    "scrolled": true
   },
   "outputs": [],
   "source": [
    "df_clean['dayofweek'] = df_clean['date'].map(lambda x: x.dayofweek)\n",
    "df_clean['month'] = df_clean['date'].map(lambda x: x.month)\n",
    "df_clean['day'] = df_clean['date'].map(lambda x: x.day)\n",
    "\n",
    "\n",
    "#Set number of years to consider recent renovation\n",
    "n_years = 15\n",
    "df_clean['yr_renovated_cat'] = df_clean['yr_renovated'].apply(renovated_cat, n_years=n_years)"
   ]
  },
  {
   "cell_type": "markdown",
   "metadata": {},
   "source": [
    "## Set up data fields as Categorical to avoid treating as numbers"
   ]
  },
  {
   "cell_type": "code",
   "execution_count": 14,
   "metadata": {
    "ExecuteTime": {
     "end_time": "2019-05-06T20:42:54.215663Z",
     "start_time": "2019-05-06T20:42:54.203500Z"
    }
   },
   "outputs": [
    {
     "name": "stdout",
     "output_type": "stream",
     "text": [
      "id                           int64\n",
      "date                datetime64[ns]\n",
      "price                      float64\n",
      "bedrooms                     int64\n",
      "bathrooms                  float64\n",
      "sqft_living                  int64\n",
      "sqft_lot                     int64\n",
      "floors                    category\n",
      "waterfront                category\n",
      "view                      category\n",
      "condition                 category\n",
      "grade                     category\n",
      "sqft_above                   int64\n",
      "sqft_basement              float64\n",
      "yr_built                     int64\n",
      "yr_renovated               float64\n",
      "zipcode                   category\n",
      "lat                        float64\n",
      "long                       float64\n",
      "sqft_living15                int64\n",
      "sqft_lot15                   int64\n",
      "dayofweek                 category\n",
      "month                     category\n",
      "day                       category\n",
      "yr_renovated_cat          category\n",
      "dtype: object\n"
     ]
    }
   ],
   "source": [
    "categorical_columns = ['floors', 'waterfront', 'view', 'condition', 'grade', 'zipcode', 'dayofweek', 'day', 'month', 'yr_renovated_cat']\n",
    "\n",
    "set_to_categorical(df_clean, categorical_columns)\n",
    "\n",
    "print(df_clean.dtypes)"
   ]
  },
  {
   "cell_type": "markdown",
   "metadata": {},
   "source": []
  }
 ],
 "metadata": {
  "kernelspec": {
   "display_name": "Python 3",
   "language": "python",
   "name": "python3"
  },
  "language_info": {
   "codemirror_mode": {
    "name": "ipython",
    "version": 3
   },
   "file_extension": ".py",
   "mimetype": "text/x-python",
   "name": "python",
   "nbconvert_exporter": "python",
   "pygments_lexer": "ipython3",
   "version": "3.6.6"
  },
  "toc": {
   "base_numbering": 1,
   "nav_menu": {},
   "number_sections": true,
   "sideBar": true,
   "skip_h1_title": false,
   "title_cell": "Table of Contents",
   "title_sidebar": "Contents",
   "toc_cell": false,
   "toc_position": {},
   "toc_section_display": true,
   "toc_window_display": true
  },
  "varInspector": {
   "cols": {
    "lenName": 16,
    "lenType": 16,
    "lenVar": 40
   },
   "kernels_config": {
    "python": {
     "delete_cmd_postfix": "",
     "delete_cmd_prefix": "del ",
     "library": "var_list.py",
     "varRefreshCmd": "print(var_dic_list())"
    },
    "r": {
     "delete_cmd_postfix": ") ",
     "delete_cmd_prefix": "rm(",
     "library": "var_list.r",
     "varRefreshCmd": "cat(var_dic_list()) "
    }
   },
   "types_to_exclude": [
    "module",
    "function",
    "builtin_function_or_method",
    "instance",
    "_Feature"
   ],
   "window_display": false
  }
 },
 "nbformat": 4,
 "nbformat_minor": 2
}
