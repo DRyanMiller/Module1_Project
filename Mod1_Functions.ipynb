{
 "cells": [
  {
   "cell_type": "code",
   "execution_count": 6,
   "metadata": {
    "ExecuteTime": {
     "end_time": "2019-05-07T16:23:57.411937Z",
     "start_time": "2019-05-07T16:23:57.293682Z"
    }
   },
   "outputs": [],
   "source": [
    "# for deleting python script to easily resave with same name\n",
    "#!rm Mod1_Functions.py"
   ]
  },
  {
   "cell_type": "code",
   "execution_count": 7,
   "metadata": {
    "ExecuteTime": {
     "end_time": "2019-05-07T03:47:38.876375Z",
     "start_time": "2019-05-07T03:47:38.240832Z"
    }
   },
   "outputs": [],
   "source": [
    "import pandas as pd\n",
    "import numpy as np\n",
    "import matplotlib.pyplot as plt\n",
    "import seaborn as sns\n",
    "import statsmodels.api as sm\n",
    "import statsmodels.formula.api as smf\n",
    "%matplotlib inline\n",
    "import statsmodels.api as sm\n",
    "from statsmodels.formula.api import ols\n",
    "import seaborn as sns\n",
    "from sklearn import preprocessing\n",
    "from sklearn.linear_model import LinearRegression\n",
    "from sklearn.model_selection import cross_val_score\n",
    "from sklearn.model_selection import KFold\n",
    "from sklearn.model_selection import GridSearchCV\n",
    "from sklearn.linear_model import Ridge\n",
    "from sklearn.linear_model import Lasso"
   ]
  },
  {
   "cell_type": "code",
   "execution_count": 110,
   "metadata": {
    "ExecuteTime": {
     "end_time": "2019-05-06T18:58:46.663855Z",
     "start_time": "2019-05-06T18:58:46.658742Z"
    }
   },
   "outputs": [],
   "source": [
    "def clean_datafield(data, col_name, convert_type=None, val_to_replace=None, val_replacement=None, replacement_array=None):\n",
    "    \"\"\"Takes inputs of data as pandas.dataframe and column name as string\n",
    "    Returns a pandas series of clean values\n",
    "    \"\"\"\n",
    "    outval = pd.Series()\n",
    "    if val_to_replace != None:\n",
    "        if type(val_replacement) == list:\n",
    "            # pass\n",
    "            outval = np.where(data[col_name] == val_to_replace, sum(\n",
    "                [data[val_replacement[i]]*replacement_array[i] for i in range(len(replacement_array))]), data[col_name])\n",
    "        else:\n",
    "            outval = data[col_name].copy().replace(\n",
    "                to_replace=val_to_replace, value=val_replacement)\n",
    "    else:\n",
    "        outval = data[col_name].copy()\n",
    "\n",
    "    if convert_type != None:\n",
    "        outval = outval.astype(convert_type)\n",
    "    return outval"
   ]
  },
  {
   "cell_type": "code",
   "execution_count": 137,
   "metadata": {
    "ExecuteTime": {
     "end_time": "2019-05-06T19:28:56.010747Z",
     "start_time": "2019-05-06T19:28:56.006299Z"
    }
   },
   "outputs": [],
   "source": [
    "# values of adjustment dictionary in format of [convert_type, val_to_replace, val_replacement]\n",
    "\n",
    "#data_adjustments = {'date': ['datetime64', None, None, None], \n",
    "#                    'bedrooms': [None, 33, 4, None], \n",
    "#                    'waterfront': [str, np.nan, 'missing', None], \n",
    "#                    'view': [str, np.nan, 0, None],\n",
    "#                    'sqft_basement': [float, '?', ['sqft_living','sqft_above'], [1, -1]]\n",
    "#                   }"
   ]
  },
  {
   "cell_type": "code",
   "execution_count": 138,
   "metadata": {
    "ExecuteTime": {
     "end_time": "2019-05-06T19:28:57.234722Z",
     "start_time": "2019-05-06T19:28:57.230185Z"
    }
   },
   "outputs": [],
   "source": [
    "def clean_dataframe(data, data_adj={}):\n",
    "    import numpy as np\n",
    "    import pandas as pd\n",
    "    out_df = pd.DataFrame()\n",
    "    for column_name in data.columns:\n",
    "        if column_name in data_adj.keys():\n",
    "            dict_look = data_adj[column_name]\n",
    "        else:\n",
    "            dict_look = [None, None, None, None]\n",
    "        out_df[column_name] = clean_datafield(\n",
    "            data, column_name, dict_look[0], dict_look[1], dict_look[2], dict_look[3])\n",
    "    return out_df"
   ]
  },
  {
   "cell_type": "code",
   "execution_count": 1,
   "metadata": {
    "ExecuteTime": {
     "end_time": "2019-05-06T20:38:40.321470Z",
     "start_time": "2019-05-06T20:38:40.314731Z"
    }
   },
   "outputs": [],
   "source": [
    "def renovated_cat(series, n_years):\n",
    "    if series == 0:\n",
    "        return 'Never Renovated'\n",
    "    elif (2015-n_years) <= series <= 2015:\n",
    "        return 'Since {} inclusive'.format(2015-n_years)\n",
    "    elif series < (2015-n_years):\n",
    "        return 'Prior to {}'.format(2015-n_years)\n",
    "    else:\n",
    "        return 'missing'"
   ]
  },
  {
   "cell_type": "code",
   "execution_count": 3,
   "metadata": {
    "ExecuteTime": {
     "end_time": "2019-05-06T20:19:22.361484Z",
     "start_time": "2019-05-06T20:19:22.358329Z"
    }
   },
   "outputs": [],
   "source": [
    "def set_to_categorical(df, listofcolumns):\n",
    "    for col in listofcolumns:\n",
    "        df[col] = df[col].astype('category')"
   ]
  },
  {
   "cell_type": "code",
   "execution_count": 5,
   "metadata": {
    "ExecuteTime": {
     "end_time": "2019-05-07T03:06:21.394267Z",
     "start_time": "2019-05-07T03:06:21.388541Z"
    }
   },
   "outputs": [],
   "source": [
    "def scatter_y(df, y, ncols=3, figsize=(16, 20), wspace=0.2, hspace=0.5, alpha=0.05, color='b'):\n",
    "    df_col_list = list(df.columns)\n",
    "    if (len(df_col_list) % ncols > 0):\n",
    "        nrows = len(df_col_list)//ncols + 1\n",
    "    else:\n",
    "        nrows = len(df_col_list)//ncols\n",
    "\n",
    "    fig, axes = plt.subplots(nrows=nrows, ncols=ncols, figsize=figsize)\n",
    "    fig.subplots_adjust(wspace=0.2, hspace=0.5)\n",
    "\n",
    "    for i, xcol in enumerate(df_col_list):\n",
    "        try:\n",
    "            df.plot(kind='scatter', x=xcol, y=y,\n",
    "                    ax=axes[i//ncols, i % ncols], label=xcol, alpha=alpha, color=color)\n",
    "            plt.plot()\n",
    "        except:\n",
    "            print('warning: could not graph {} as numbers'.format(xcol))"
   ]
  },
  {
   "cell_type": "code",
   "execution_count": 6,
   "metadata": {
    "ExecuteTime": {
     "end_time": "2019-05-07T03:33:23.899674Z",
     "start_time": "2019-05-07T03:33:23.896098Z"
    }
   },
   "outputs": [],
   "source": [
    "def create_dummyframe(df, listofcolumns):\n",
    "    df_dummy = pd.DataFrame()\n",
    "    for cat_col in listofcolumns:\n",
    "        df_dummy = pd.concat([df_dummy, pd.get_dummies(df[cat_col], prefix=cat_col)], axis=1)\n",
    "    return df_dummy"
   ]
  },
  {
   "cell_type": "code",
   "execution_count": 4,
   "metadata": {
    "ExecuteTime": {
     "end_time": "2019-05-07T15:34:56.660794Z",
     "start_time": "2019-05-07T15:34:56.655584Z"
    }
   },
   "outputs": [],
   "source": [
    "def create_season(month):\n",
    "    month = str(month)\n",
    "    if month in ['12', '1', '2']:\n",
    "        return 'Winter'\n",
    "    elif month in ['3', '4', '5']:\n",
    "        return 'Spring'\n",
    "    elif month in ['6', '7', '8']:\n",
    "        return 'Summer'\n",
    "    elif month in ['9', '10', '11']:\n",
    "        return 'Fall'"
   ]
  },
  {
   "cell_type": "code",
   "execution_count": null,
   "metadata": {},
   "outputs": [],
   "source": []
  }
 ],
 "metadata": {
  "kernelspec": {
   "display_name": "Python 3",
   "language": "python",
   "name": "python3"
  },
  "language_info": {
   "codemirror_mode": {
    "name": "ipython",
    "version": 3
   },
   "file_extension": ".py",
   "mimetype": "text/x-python",
   "name": "python",
   "nbconvert_exporter": "python",
   "pygments_lexer": "ipython3",
   "version": "3.6.6"
  },
  "toc": {
   "base_numbering": 1,
   "nav_menu": {},
   "number_sections": true,
   "sideBar": true,
   "skip_h1_title": false,
   "title_cell": "Table of Contents",
   "title_sidebar": "Contents",
   "toc_cell": false,
   "toc_position": {},
   "toc_section_display": true,
   "toc_window_display": false
  },
  "varInspector": {
   "cols": {
    "lenName": 16,
    "lenType": 16,
    "lenVar": 40
   },
   "kernels_config": {
    "python": {
     "delete_cmd_postfix": "",
     "delete_cmd_prefix": "del ",
     "library": "var_list.py",
     "varRefreshCmd": "print(var_dic_list())"
    },
    "r": {
     "delete_cmd_postfix": ") ",
     "delete_cmd_prefix": "rm(",
     "library": "var_list.r",
     "varRefreshCmd": "cat(var_dic_list()) "
    }
   },
   "types_to_exclude": [
    "module",
    "function",
    "builtin_function_or_method",
    "instance",
    "_Feature"
   ],
   "window_display": false
  }
 },
 "nbformat": 4,
 "nbformat_minor": 2
}
