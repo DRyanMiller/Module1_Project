{
 "cells": [
  {
   "cell_type": "code",
   "execution_count": 110,
   "metadata": {
    "ExecuteTime": {
     "end_time": "2019-05-06T18:58:46.663855Z",
     "start_time": "2019-05-06T18:58:46.658742Z"
    }
   },
   "outputs": [],
   "source": [
    "def clean_datafield(data, col_name, convert_type=None, val_to_replace=None, val_replacement=None, replacement_array=None):\n",
    "    \"\"\"Takes inputs of data as pandas.dataframe and column name as string\n",
    "    Returns a pandas series of clean values\n",
    "    \"\"\"\n",
    "    import numpy as np\n",
    "    import pandas as pd\n",
    "    outval = pd.Series()\n",
    "    if val_to_replace != []:\n",
    "        if type(val_replacement) == list:\n",
    "            #pass\n",
    "            outval = np.where(data[col_name]==val_to_replace, sum([data[val_replacement[i]]*replacement_array[i] for i in range(len(replacement_array))]), data[col_name])\n",
    "        else:\n",
    "            outval = data[col_name].copy().replace(\n",
    "                to_replace=val_to_replace, value=val_replacement)\n",
    "    else:\n",
    "        outval = data[col_name].copy()\n",
    "\n",
    "    if convert_type != None:\n",
    "        outval = outval.astype(convert_type)\n",
    "    return outval"
   ]
  },
  {
   "cell_type": "code",
   "execution_count": 137,
   "metadata": {
    "ExecuteTime": {
     "end_time": "2019-05-06T19:28:56.010747Z",
     "start_time": "2019-05-06T19:28:56.006299Z"
    }
   },
   "outputs": [],
   "source": [
    "# values of adjustment dictionary in format of [convert_type, val_to_replace, val_replacement]\n",
    "\n",
    "#data_adjustments = {'date': ['datetime64', None, None, None], \n",
    "#                    'bedrooms': [None, 33, 4, None], \n",
    "#                    'waterfront': [str, np.nan, 'missing', None], \n",
    "#                    'view': [str, np.nan, 0, None],\n",
    "#                    'sqft_basement': [float, '?', ['sqft_living','sqft_above'], [1, -1]]\n",
    "#                   }"
   ]
  },
  {
   "cell_type": "code",
   "execution_count": 138,
   "metadata": {
    "ExecuteTime": {
     "end_time": "2019-05-06T19:28:57.234722Z",
     "start_time": "2019-05-06T19:28:57.230185Z"
    }
   },
   "outputs": [],
   "source": [
    "def clean_dataframe(data, data_adj={}):\n",
    "    import numpy as np\n",
    "    import pandas as pd\n",
    "    out_df = pd.DataFrame()\n",
    "    for column_name in data.columns:\n",
    "        if column_name in data_adj.keys():\n",
    "            dict_look = data_adj[column_name]\n",
    "        else:\n",
    "            dict_look = [None, None, None, None]\n",
    "        out_df[column_name] = clean_datafield(data, column_name, dict_look[0], dict_look[1], dict_look[2], dict_look[3])\n",
    "    return out_df"
   ]
  },
  {
   "cell_type": "code",
   "execution_count": 1,
   "metadata": {
    "ExecuteTime": {
     "end_time": "2019-05-06T20:38:40.321470Z",
     "start_time": "2019-05-06T20:38:40.314731Z"
    }
   },
   "outputs": [],
   "source": [
    "def renovated_cat(series, n_years):\n",
    "    if series == 0:\n",
    "        return 'Never Renovated'\n",
    "    elif (2015-n_years) <= series <= 2015:\n",
    "        return 'Since {} inclusive'.format(2015-n_years)\n",
    "    elif  series < (2015-n_years):\n",
    "        return 'Prior to {}'.format(2015-n_years)\n",
    "    else:\n",
    "        return 'missing'"
   ]
  },
  {
   "cell_type": "code",
   "execution_count": 3,
   "metadata": {
    "ExecuteTime": {
     "end_time": "2019-05-06T20:19:22.361484Z",
     "start_time": "2019-05-06T20:19:22.358329Z"
    }
   },
   "outputs": [],
   "source": [
    "def set_to_categorical(df, listofcolumns):\n",
    "    for col in listofcolumns:\n",
    "        df[col] = df[col].astype('category')"
   ]
  },
  {
   "cell_type": "code",
   "execution_count": null,
   "metadata": {},
   "outputs": [],
   "source": []
  }
 ],
 "metadata": {
  "kernelspec": {
   "display_name": "Python 3",
   "language": "python",
   "name": "python3"
  },
  "language_info": {
   "codemirror_mode": {
    "name": "ipython",
    "version": 3
   },
   "file_extension": ".py",
   "mimetype": "text/x-python",
   "name": "python",
   "nbconvert_exporter": "python",
   "pygments_lexer": "ipython3",
   "version": "3.6.6"
  },
  "toc": {
   "base_numbering": 1,
   "nav_menu": {},
   "number_sections": true,
   "sideBar": true,
   "skip_h1_title": false,
   "title_cell": "Table of Contents",
   "title_sidebar": "Contents",
   "toc_cell": false,
   "toc_position": {},
   "toc_section_display": true,
   "toc_window_display": false
  },
  "varInspector": {
   "cols": {
    "lenName": 16,
    "lenType": 16,
    "lenVar": 40
   },
   "kernels_config": {
    "python": {
     "delete_cmd_postfix": "",
     "delete_cmd_prefix": "del ",
     "library": "var_list.py",
     "varRefreshCmd": "print(var_dic_list())"
    },
    "r": {
     "delete_cmd_postfix": ") ",
     "delete_cmd_prefix": "rm(",
     "library": "var_list.r",
     "varRefreshCmd": "cat(var_dic_list()) "
    }
   },
   "types_to_exclude": [
    "module",
    "function",
    "builtin_function_or_method",
    "instance",
    "_Feature"
   ],
   "window_display": false
  }
 },
 "nbformat": 4,
 "nbformat_minor": 2
}
